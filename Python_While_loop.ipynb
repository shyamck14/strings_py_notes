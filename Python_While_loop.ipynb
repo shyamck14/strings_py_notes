{
  "nbformat": 4,
  "nbformat_minor": 0,
  "metadata": {
    "colab": {
      "provenance": [],
      "authorship_tag": "ABX9TyOawZWU5jD+CnCEQmYkbaKC",
      "include_colab_link": true
    },
    "kernelspec": {
      "name": "python3",
      "display_name": "Python 3"
    },
    "language_info": {
      "name": "python"
    }
  },
  "cells": [
    {
      "cell_type": "markdown",
      "metadata": {
        "id": "view-in-github",
        "colab_type": "text"
      },
      "source": [
        "<a href=\"https://colab.research.google.com/github/shyamck14/strings_py_notes/blob/main/Python_While_loop.ipynb\" target=\"_parent\"><img src=\"https://colab.research.google.com/assets/colab-badge.svg\" alt=\"Open In Colab\"/></a>"
      ]
    },
    {
      "cell_type": "markdown",
      "source": [
        "While loop\n",
        "\n",
        "* it reapetedly executes a block of code as long as a speecified condition is True\n",
        "\n"
      ],
      "metadata": {
        "id": "T7xl5SLBevCM"
      }
    },
    {
      "cell_type": "code",
      "execution_count": 1,
      "metadata": {
        "colab": {
          "base_uri": "https://localhost:8080/"
        },
        "id": "wR2C5oWGetrZ",
        "outputId": "418ece7d-3b4c-4480-a909-e5752b074b2e"
      },
      "outputs": [
        {
          "output_type": "stream",
          "name": "stdout",
          "text": [
            "0\n",
            "1\n",
            "2\n",
            "3\n",
            "4\n"
          ]
        }
      ],
      "source": [
        "# basic while loop\n",
        "# print number from 0 to 4\n",
        "\n",
        "count = 0\n",
        "while count < 5:\n",
        "  print(count)\n",
        "  count += 1"
      ]
    },
    {
      "cell_type": "code",
      "source": [
        "# summing\n",
        "# calculating sum of num from 1 to 10\n",
        "\n",
        "total = 0\n",
        "num = 1\n",
        "while num <= 10:\n",
        "  total += num\n",
        "  num += 1\n",
        "print(\"Sum of numbers from 1 to 10 is:\", total) # print method 1\n",
        "print(f\"The sum is {total}\") # print method 2"
      ],
      "metadata": {
        "colab": {
          "base_uri": "https://localhost:8080/"
        },
        "id": "DyepWU7hgG1h",
        "outputId": "42bee688-18a5-4e53-9315-ad3082122706"
      },
      "execution_count": 3,
      "outputs": [
        {
          "output_type": "stream",
          "name": "stdout",
          "text": [
            "Sum of numbers from 1 to 10 is: 55\n",
            "The sum is 55\n"
          ]
        }
      ]
    },
    {
      "cell_type": "code",
      "source": [
        "# user input loop\n",
        "# repeatedly asks user to enter correct password\n",
        "\n",
        "password =\"\"\n",
        "while password != \"secret\":\n",
        "  password = input(\"Enter the password: \")\n",
        "print(\"Access granted\")"
      ],
      "metadata": {
        "colab": {
          "base_uri": "https://localhost:8080/"
        },
        "id": "2agNEeDJgyQj",
        "outputId": "93577616-5cd4-485c-a56f-b5a802e4a6aa"
      },
      "execution_count": 4,
      "outputs": [
        {
          "output_type": "stream",
          "name": "stdout",
          "text": [
            "Enter the password: secret\n",
            "Access granted\n"
          ]
        }
      ]
    },
    {
      "cell_type": "code",
      "source": [
        "# countdown timer (method 1)\n",
        "# counts down from 10 to 1 and prints \"liftoff!\"\n",
        "\n",
        "import time\n",
        "countdown = 10\n",
        "while countdown > 0:\n",
        "  print(countdown)\n",
        "  time.sleep(1)\n",
        "  countdown -= 1\n",
        "print(\"Liftoff!\")"
      ],
      "metadata": {
        "colab": {
          "base_uri": "https://localhost:8080/"
        },
        "id": "ZjMDwLHShMt6",
        "outputId": "1bc877e5-4cfe-4d07-ee4b-1b662dcdef6c"
      },
      "execution_count": 5,
      "outputs": [
        {
          "output_type": "stream",
          "name": "stdout",
          "text": [
            "10\n",
            "9\n",
            "8\n",
            "7\n",
            "6\n",
            "5\n",
            "4\n",
            "3\n",
            "2\n",
            "1\n",
            "Liftoff!\n"
          ]
        }
      ]
    },
    {
      "cell_type": "code",
      "source": [
        "# countdown timer (Method 2)\n",
        "# counts down from 10 to 1 and prints \"liftoff!\"\n",
        "\n",
        "countdown = 10\n",
        "while countdown > 0:\n",
        "  print(countdown)\n",
        "  countdown -= 1\n",
        "else:\n",
        "  print(\"Liftoff!\")"
      ],
      "metadata": {
        "colab": {
          "base_uri": "https://localhost:8080/"
        },
        "id": "cCGkcYD5iMcv",
        "outputId": "437f5259-aa62-4fcc-a0b7-f4b844c86fa6"
      },
      "execution_count": 6,
      "outputs": [
        {
          "output_type": "stream",
          "name": "stdout",
          "text": [
            "10\n",
            "9\n",
            "8\n",
            "7\n",
            "6\n",
            "5\n",
            "4\n",
            "3\n",
            "2\n",
            "1\n",
            "Liftoff!\n"
          ]
        }
      ]
    },
    {
      "cell_type": "code",
      "source": [
        "# countdown timer (method 3)\n",
        "# counts down from 10 to 1 and prints \"liftoff!\"\n",
        "\n",
        "countdown = 10\n",
        "while countdown > 0:\n",
        "  print(countdown)\n",
        "  countdown -= 1\n",
        "print(\"Liftoff!\")"
      ],
      "metadata": {
        "colab": {
          "base_uri": "https://localhost:8080/"
        },
        "id": "cvBf89aUiabx",
        "outputId": "cd821a81-f204-4672-be82-89b83a727c71"
      },
      "execution_count": 7,
      "outputs": [
        {
          "output_type": "stream",
          "name": "stdout",
          "text": [
            "10\n",
            "9\n",
            "8\n",
            "7\n",
            "6\n",
            "5\n",
            "4\n",
            "3\n",
            "2\n",
            "1\n",
            "Liftoff!\n"
          ]
        }
      ]
    },
    {
      "cell_type": "code",
      "source": [
        "# checking prime num\n",
        "# checks if a num is prime\n",
        "\n",
        "num = int(input(\"Enter a number: \"))\n",
        "is_prime = True\n",
        "divisor = 2\n",
        "while divisor < num:\n",
        "  if num % divisor == 0:\n",
        "    is_prime = False\n",
        "    break\n",
        "  divisor += 1"
      ],
      "metadata": {
        "colab": {
          "base_uri": "https://localhost:8080/"
        },
        "id": "5qSUjXpFjQaL",
        "outputId": "497767b3-ed4a-4b7e-ea53-fdc2dafb4d7b"
      },
      "execution_count": 8,
      "outputs": [
        {
          "name": "stdout",
          "output_type": "stream",
          "text": [
            "Enter a number: 21\n"
          ]
        }
      ]
    },
    {
      "cell_type": "code",
      "source": [
        "# checking prime num\n",
        "# checks if a num is prime\n",
        "\n",
        "number = 20\n",
        "is_prime = True\n",
        "i = 2\n",
        "while i < number:\n",
        "  if number % i == 0:\n",
        "    is_prime = False\n",
        "    break\n",
        "  i += 1\n",
        "if is_prime:\n",
        "  print(\"Prime\")\n",
        "else:\n",
        "  print(\"Not prime\")\n"
      ],
      "metadata": {
        "colab": {
          "base_uri": "https://localhost:8080/"
        },
        "id": "mKA__nhyjnvN",
        "outputId": "1c5ee4a6-c87f-44ef-e803-d17ecc91f117"
      },
      "execution_count": 11,
      "outputs": [
        {
          "output_type": "stream",
          "name": "stdout",
          "text": [
            "Not prime\n"
          ]
        }
      ]
    }
  ]
}