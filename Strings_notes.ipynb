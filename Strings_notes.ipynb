{
  "metadata": {
    "kernelspec": {
      "name": "python",
      "display_name": "Python (Pyodide)",
      "language": "python"
    },
    "language_info": {
      "codemirror_mode": {
        "name": "python",
        "version": 3
      },
      "file_extension": ".py",
      "mimetype": "text/x-python",
      "name": "python",
      "nbconvert_exporter": "python",
      "pygments_lexer": "ipython3",
      "version": "3.8"
    }
  },
  "nbformat_minor": 4,
  "nbformat": 4,
  "cells": [
    {
      "cell_type": "markdown",
      "source": "* STRINGS\n* String methods are built-in functions in Python that operate on strings.\n* They can be used to manipulate and analyze strings in various ways\n* Docstrings used to document our functions\n* \\n newline character\n* \"LIST COMPREHENSIONS\" are a concise way to create new lists in Python. They consist of an expression followed by a for clause, which specifies the iteration over a sequence. Optionally, they can also include one or more if clauses, which filter the elements of the sequence based on a condition\n* The \"END PARAMETER\" is set to an empty string, \nthe output of this line is concatenated with the output of the previous line\n* strings are immutable, append doesn't work\n*  The startswith() method is one such method that can be used to check whether a string starts with a particular substring.",
      "metadata": {}
    },
    {
      "cell_type": "code",
      "source": "#Strings Practice\nprint('pluto\\'s moon')\nprint('pluto\\\"s moon')\nprint('pluto\\\\s moon')\nprint('pluto\\'s\\n moon')",
      "metadata": {
        "trusted": true
      },
      "outputs": [
        {
          "name": "stdout",
          "text": "pluto's moon\npluto\"s moon\npluto\\s moon\npluto's\n moon\n",
          "output_type": "stream"
        }
      ],
      "execution_count": 8
    },
    {
      "cell_type": "code",
      "source": "# Triple Quote\n#Docstring\nprint (\"\"\"hello \nworld\"\"\")",
      "metadata": {
        "trusted": true
      },
      "outputs": [
        {
          "name": "stdout",
          "text": "hello \nworld\n",
          "output_type": "stream"
        }
      ],
      "execution_count": 17
    },
    {
      "cell_type": "code",
      "source": "# triple quote\ntriple_quote_hello = \"\"\"hello\nworld\"\"\"\nhello = \"hello\"\nprint(triple_quote_hello == hello)\n",
      "metadata": {
        "trusted": true
      },
      "outputs": [
        {
          "name": "stdout",
          "text": "False\n",
          "output_type": "stream"
        }
      ],
      "execution_count": 19
    },
    {
      "cell_type": "code",
      "source": "#Using end parameter\nprint (\"hello\", end='')\nprint (\" mars\", end='')\n\n#(The end parameter is set to an empty string, \n#the output of this line is concatenated with the output of the previous line, \n#resulting in the string \"hello mars\" printed to the console)",
      "metadata": {
        "trusted": true
      },
      "outputs": [
        {
          "name": "stdout",
          "text": "hello mars",
          "output_type": "stream"
        }
      ],
      "execution_count": 44
    },
    {
      "cell_type": "code",
      "source": "#Indexing\nPlanet = 'pluto'\nplanet[0]",
      "metadata": {
        "trusted": true
      },
      "outputs": [
        {
          "execution_count": 37,
          "output_type": "execute_result",
          "data": {
            "text/plain": "'p'"
          },
          "metadata": {}
        }
      ],
      "execution_count": 37
    },
    {
      "cell_type": "code",
      "source": "#Slicing\nplanet[-3:]",
      "metadata": {
        "trusted": true
      },
      "outputs": [
        {
          "execution_count": 38,
          "output_type": "execute_result",
          "data": {
            "text/plain": "'uto'"
          },
          "metadata": {}
        }
      ],
      "execution_count": 38
    },
    {
      "cell_type": "code",
      "source": "#length of a string\nprint(len(planet))",
      "metadata": {
        "trusted": true
      },
      "outputs": [
        {
          "name": "stdout",
          "text": "5\n",
          "output_type": "stream"
        }
      ],
      "execution_count": 39
    },
    {
      "cell_type": "code",
      "source": "#List comprehension  \n[char+'' for char in planet]\n\n#(The code char+'' for char in planet is a list comprehension in Python. \n#It creates a new list by iterating over each character in the string planet, \n#and concatenating an empty string to each character. \n#The resulting list contains the original characters from planet, \n#but as strings instead of characters )",
      "metadata": {
        "trusted": true
      },
      "outputs": [
        {
          "execution_count": 43,
          "output_type": "execute_result",
          "data": {
            "text/plain": "['p', 'l', 'u', 't', 'o']"
          },
          "metadata": {}
        }
      ],
      "execution_count": 43
    },
    {
      "cell_type": "code",
      "source": "#strings are immutable, append doesn't work \nplanet[0] = 'B'",
      "metadata": {
        "trusted": true
      },
      "outputs": [
        {
          "ename": "<class 'TypeError'>",
          "evalue": "'str' object does not support item assignment",
          "traceback": [
            "\u001b[0;31m---------------------------------------------------------------------------\u001b[0m",
            "\u001b[0;31mTypeError\u001b[0m                                 Traceback (most recent call last)",
            "Cell \u001b[0;32mIn[47], line 2\u001b[0m\n\u001b[1;32m      1\u001b[0m \u001b[38;5;66;03m#strings are immutable, append doesn't work \u001b[39;00m\n\u001b[0;32m----> 2\u001b[0m \u001b[43mplanet\u001b[49m\u001b[43m[\u001b[49m\u001b[38;5;241;43m0\u001b[39;49m\u001b[43m]\u001b[49m \u001b[38;5;241m=\u001b[39m \u001b[38;5;124m'\u001b[39m\u001b[38;5;124mB\u001b[39m\u001b[38;5;124m'\u001b[39m\n",
            "\u001b[0;31mTypeError\u001b[0m: 'str' object does not support item assignment"
          ],
          "output_type": "error"
        }
      ],
      "execution_count": 47
    },
    {
      "cell_type": "code",
      "source": "#string methods \n#ALL CAPS\nclaim = \"pluto\"\nclaim.upper()",
      "metadata": {
        "trusted": true
      },
      "outputs": [
        {
          "execution_count": 49,
          "output_type": "execute_result",
          "data": {
            "text/plain": "'PLUTO'"
          },
          "metadata": {}
        }
      ],
      "execution_count": 49
    },
    {
      "cell_type": "code",
      "source": "#all lowercase\nclaim.lower()",
      "metadata": {
        "trusted": true
      },
      "outputs": [
        {
          "execution_count": 50,
          "output_type": "execute_result",
          "data": {
            "text/plain": "'pluto'"
          },
          "metadata": {}
        }
      ],
      "execution_count": 50
    },
    {
      "cell_type": "code",
      "source": "#searching for the index\nclaim.index('to')",
      "metadata": {
        "trusted": true
      },
      "outputs": [
        {
          "execution_count": 51,
          "output_type": "execute_result",
          "data": {
            "text/plain": "3"
          },
          "metadata": {}
        }
      ],
      "execution_count": 51
    },
    {
      "cell_type": "code",
      "source": "#to check whether a string starts with a particular substring.\nclaim.startswith(planet)",
      "metadata": {
        "trusted": true
      },
      "outputs": [
        {
          "execution_count": 71,
          "output_type": "execute_result",
          "data": {
            "text/plain": "False"
          },
          "metadata": {}
        }
      ],
      "execution_count": 71
    },
    {
      "cell_type": "code",
      "source": "claim.endswith('planet')\n#false because it ends with quotion marks ' '",
      "metadata": {
        "trusted": true
      },
      "outputs": [
        {
          "execution_count": 70,
          "output_type": "execute_result",
          "data": {
            "text/plain": "False"
          },
          "metadata": {}
        }
      ],
      "execution_count": 70
    },
    {
      "cell_type": "code",
      "source": "# between strings and lists, .split() and .join()\n#str.split() turns a string into list of small strings\n#breaking whitespaces by default\n#from one string to list of words\nwords = claim.split()\nwords",
      "metadata": {
        "trusted": true
      },
      "outputs": [
        {
          "execution_count": 68,
          "output_type": "execute_result",
          "data": {
            "text/plain": "['pluto']"
          },
          "metadata": {}
        }
      ],
      "execution_count": 68
    },
    {
      "cell_type": "code",
      "source": "#using join \ndatestr = '2024-01-14'\nyear,month,day=datestr.split('-')\n'/'.join([day,month,year])",
      "metadata": {
        "trusted": true
      },
      "outputs": [
        {
          "execution_count": 78,
          "output_type": "execute_result",
          "data": {
            "text/plain": "'14/01/2024'"
          },
          "metadata": {}
        }
      ],
      "execution_count": 78
    },
    {
      "cell_type": "code",
      "source": "#putting uniode characters in string literals\n'👏'.join([word.upper() for word in words])",
      "metadata": {
        "trusted": true
      },
      "outputs": [
        {
          "execution_count": 83,
          "output_type": "execute_result",
          "data": {
            "text/plain": "'PLUTO'"
          },
          "metadata": {}
        }
      ],
      "execution_count": 83
    },
    {
      "cell_type": "code",
      "source": "#Building strings with .format(), using + operator\nplanet + ', we miss you.'",
      "metadata": {
        "trusted": true
      },
      "outputs": [
        {
          "execution_count": 85,
          "output_type": "execute_result",
          "data": {
            "text/plain": "'pluto, we miss you.'"
          },
          "metadata": {}
        }
      ],
      "execution_count": 85
    },
    {
      "cell_type": "code",
      "source": "#Throwing non-string objects, shows error ,without str\nposition = 9\nplanet + \" , you are \" + position + \"th planet. \"",
      "metadata": {
        "trusted": true
      },
      "outputs": [
        {
          "ename": "<class 'TypeError'>",
          "evalue": "can only concatenate str (not \"int\") to str",
          "traceback": [
            "\u001b[0;31m---------------------------------------------------------------------------\u001b[0m",
            "\u001b[0;31mTypeError\u001b[0m                                 Traceback (most recent call last)",
            "Cell \u001b[0;32mIn[89], line 3\u001b[0m\n\u001b[1;32m      1\u001b[0m \u001b[38;5;66;03m#Throwing non-string objects\u001b[39;00m\n\u001b[1;32m      2\u001b[0m position \u001b[38;5;241m=\u001b[39m \u001b[38;5;241m9\u001b[39m\n\u001b[0;32m----> 3\u001b[0m \u001b[43mplanet\u001b[49m\u001b[43m \u001b[49m\u001b[38;5;241;43m+\u001b[39;49m\u001b[43m \u001b[49m\u001b[38;5;124;43m\"\u001b[39;49m\u001b[38;5;124;43m , you are \u001b[39;49m\u001b[38;5;124;43m\"\u001b[39;49m\u001b[43m \u001b[49m\u001b[38;5;241;43m+\u001b[39;49m\u001b[43m \u001b[49m\u001b[43mposition\u001b[49m \u001b[38;5;241m+\u001b[39m \u001b[38;5;124m\"\u001b[39m\u001b[38;5;124mth planet. \u001b[39m\u001b[38;5;124m\"\u001b[39m\n",
            "\u001b[0;31mTypeError\u001b[0m: can only concatenate str (not \"int\") to str"
          ],
          "output_type": "error"
        }
      ],
      "execution_count": 89
    },
    {
      "cell_type": "code",
      "source": "#str ,error rectified\nplanet + \" , you are \" +str( position ) + \" th planet. \"",
      "metadata": {
        "trusted": true
      },
      "outputs": [
        {
          "execution_count": 88,
          "output_type": "execute_result",
          "data": {
            "text/plain": "'pluto , you are 9 th planet. '"
          },
          "metadata": {}
        }
      ],
      "execution_count": 88
    },
    {
      "cell_type": "code",
      "source": "#using str.format() \n\"{}, you are {}th planet.\".format(planet, position)",
      "metadata": {
        "trusted": true
      },
      "outputs": [
        {
          "execution_count": 90,
          "output_type": "execute_result",
          "data": {
            "text/plain": "'pluto, you are 9th planet.'"
          },
          "metadata": {}
        }
      ],
      "execution_count": 90
    },
    {
      "cell_type": "code",
      "source": "#\npluto_mass = 1.303 + 10*22\nearth_mass = 5.9722 * 10**24\npopulation = 52910390\n\"{} weight about {:.2} kilograms ({:.3%} of earth's mass). It is home to {:,} Plutonians.\".format(planet, pluto_mass, pluto_mass/earth_mass, population,)",
      "metadata": {
        "trusted": true
      },
      "outputs": [
        {
          "execution_count": 98,
          "output_type": "execute_result",
          "data": {
            "text/plain": "\"pluto weight about 2.2e+02 kilograms (0.000% of earth's mass). It is home to 52,910,390 Plutonians.\""
          },
          "metadata": {}
        }
      ],
      "execution_count": 98
    },
    {
      "cell_type": "code",
      "source": "#referring to format() arguments by index starting from 0\ns = \"\"\"pluto's a {0}.\nNo, it's a {1}.\n{0}!\n{1}!\"\"\".format('planet', 'dwarf planet')\nprint(s)",
      "metadata": {
        "trusted": true
      },
      "outputs": [
        {
          "name": "stdout",
          "text": "pluto's a planet.\nNo, it's a dwarf planet.\nplanet!\ndwarf planet!\n",
          "output_type": "stream"
        }
      ],
      "execution_count": 100
    }
  ]
}